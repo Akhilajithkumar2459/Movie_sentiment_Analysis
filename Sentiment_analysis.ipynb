{
 "cells": [
  {
   "cell_type": "code",
   "execution_count": 21,
   "metadata": {
    "id": "NSOLLWgWxezK"
   },
   "outputs": [],
   "source": [
    "import pandas as pd\n",
    "\n"
   ]
  },
  {
   "cell_type": "code",
   "execution_count": 22,
   "metadata": {},
   "outputs": [],
   "source": [
    "df = pd.read_csv('movie.csv')"
   ]
  },
  {
   "cell_type": "code",
   "execution_count": 23,
   "metadata": {
    "colab": {
     "base_uri": "https://localhost:8080/",
     "height": 206
    },
    "id": "TJomvy82ydvt",
    "outputId": "33c1c1c7-8538-45f9-b888-1d94970b25fc"
   },
   "outputs": [
    {
     "data": {
      "text/html": [
       "<div>\n",
       "<style scoped>\n",
       "    .dataframe tbody tr th:only-of-type {\n",
       "        vertical-align: middle;\n",
       "    }\n",
       "\n",
       "    .dataframe tbody tr th {\n",
       "        vertical-align: top;\n",
       "    }\n",
       "\n",
       "    .dataframe thead th {\n",
       "        text-align: right;\n",
       "    }\n",
       "</style>\n",
       "<table border=\"1\" class=\"dataframe\">\n",
       "  <thead>\n",
       "    <tr style=\"text-align: right;\">\n",
       "      <th></th>\n",
       "      <th>text</th>\n",
       "      <th>label</th>\n",
       "    </tr>\n",
       "  </thead>\n",
       "  <tbody>\n",
       "    <tr>\n",
       "      <th>0</th>\n",
       "      <td>I grew up (b. 1965) watching and loving the Th...</td>\n",
       "      <td>0</td>\n",
       "    </tr>\n",
       "    <tr>\n",
       "      <th>1</th>\n",
       "      <td>When I put this movie in my DVD player, and sa...</td>\n",
       "      <td>0</td>\n",
       "    </tr>\n",
       "    <tr>\n",
       "      <th>2</th>\n",
       "      <td>Why do people who do not know what a particula...</td>\n",
       "      <td>0</td>\n",
       "    </tr>\n",
       "    <tr>\n",
       "      <th>3</th>\n",
       "      <td>Even though I have great interest in Biblical ...</td>\n",
       "      <td>0</td>\n",
       "    </tr>\n",
       "    <tr>\n",
       "      <th>4</th>\n",
       "      <td>Im a die hard Dads Army fan and nothing will e...</td>\n",
       "      <td>1</td>\n",
       "    </tr>\n",
       "  </tbody>\n",
       "</table>\n",
       "</div>"
      ],
      "text/plain": [
       "                                                text  label\n",
       "0  I grew up (b. 1965) watching and loving the Th...      0\n",
       "1  When I put this movie in my DVD player, and sa...      0\n",
       "2  Why do people who do not know what a particula...      0\n",
       "3  Even though I have great interest in Biblical ...      0\n",
       "4  Im a die hard Dads Army fan and nothing will e...      1"
      ]
     },
     "execution_count": 23,
     "metadata": {},
     "output_type": "execute_result"
    }
   ],
   "source": [
    "df.head()"
   ]
  },
  {
   "cell_type": "code",
   "execution_count": 24,
   "metadata": {},
   "outputs": [
    {
     "data": {
      "text/plain": [
       "<bound method DataFrame.info of                                                   text  label\n",
       "0    I grew up (b. 1965) watching and loving the Th...      0\n",
       "1    When I put this movie in my DVD player, and sa...      0\n",
       "2    Why do people who do not know what a particula...      0\n",
       "3    Even though I have great interest in Biblical ...      0\n",
       "4    Im a die hard Dads Army fan and nothing will e...      1\n",
       "..                                                 ...    ...\n",
       "994  This film by the well-known Czech director and...      1\n",
       "995  Oh, this is so bad, it is funny. The only way ...      0\n",
       "996  I couldn't believe this terrible movie was act...      0\n",
       "997  Even though i am slightly older than the recom...      1\n",
       "998  Reading web sites on Bette Davis one can find ...      1\n",
       "\n",
       "[999 rows x 2 columns]>"
      ]
     },
     "execution_count": 24,
     "metadata": {},
     "output_type": "execute_result"
    }
   ],
   "source": [
    "df.info"
   ]
  },
  {
   "cell_type": "code",
   "execution_count": 25,
   "metadata": {
    "colab": {
     "base_uri": "https://localhost:8080/"
    },
    "id": "jm3DaNi_ye31",
    "outputId": "ece2ca7a-f1e7-474e-db33-0bf9cdf301c1"
   },
   "outputs": [
    {
     "name": "stderr",
     "output_type": "stream",
     "text": [
      "[nltk_data] Downloading package punkt_tab to\n",
      "[nltk_data]     C:\\Users\\akhil\\AppData\\Roaming\\nltk_data...\n",
      "[nltk_data]   Package punkt_tab is already up-to-date!\n"
     ]
    },
    {
     "data": {
      "text/plain": [
       "True"
      ]
     },
     "execution_count": 25,
     "metadata": {},
     "output_type": "execute_result"
    }
   ],
   "source": [
    "import nltk\n",
    "nltk.download('punkt_tab')"
   ]
  },
  {
   "cell_type": "code",
   "execution_count": 26,
   "metadata": {
    "colab": {
     "base_uri": "https://localhost:8080/"
    },
    "id": "J_R46hiPzAlw",
    "outputId": "8aa3f79a-5995-43b6-f82a-f41082786fd3"
   },
   "outputs": [
    {
     "name": "stderr",
     "output_type": "stream",
     "text": [
      "[nltk_data] Downloading package stopwords to\n",
      "[nltk_data]     C:\\Users\\akhil\\AppData\\Roaming\\nltk_data...\n",
      "[nltk_data]   Package stopwords is already up-to-date!\n",
      "[nltk_data] Downloading package punkt to\n",
      "[nltk_data]     C:\\Users\\akhil\\AppData\\Roaming\\nltk_data...\n",
      "[nltk_data]   Package punkt is already up-to-date!\n"
     ]
    }
   ],
   "source": [
    "import pandas as pd\n",
    "import nltk\n",
    "from nltk.corpus import stopwords\n",
    "from nltk.tokenize import word_tokenize\n",
    "\n",
    "# Download stopwords if not already downloaded\n",
    "nltk.download('stopwords')\n",
    "nltk.download('punkt')\n",
    "\n",
    "# Load English stopwords\n",
    "stop_words = set(stopwords.words('english'))\n",
    "\n",
    "# Sample: Assuming df['text'] contains strings\n",
    "df['text'] = df['text'].apply(lambda x: ' '.join([word for word in word_tokenize(x) if word.lower() not in stop_words]))\n"
   ]
  },
  {
   "cell_type": "code",
   "execution_count": 27,
   "metadata": {
    "colab": {
     "base_uri": "https://localhost:8080/"
    },
    "id": "snHmZUwKzOsA",
    "outputId": "dc751955-b185-4959-a74b-6312670a719e"
   },
   "outputs": [
    {
     "name": "stderr",
     "output_type": "stream",
     "text": [
      "[nltk_data] Downloading package wordnet to\n",
      "[nltk_data]     C:\\Users\\akhil\\AppData\\Roaming\\nltk_data...\n",
      "[nltk_data]   Package wordnet is already up-to-date!\n",
      "[nltk_data] Downloading package punkt to\n",
      "[nltk_data]     C:\\Users\\akhil\\AppData\\Roaming\\nltk_data...\n",
      "[nltk_data]   Package punkt is already up-to-date!\n"
     ]
    }
   ],
   "source": [
    "import nltk\n",
    "from nltk.stem import WordNetLemmatizer\n",
    "from nltk.tokenize import word_tokenize\n",
    "\n",
    "# Download necessary resources\n",
    "nltk.download('wordnet')\n",
    "nltk.download('punkt')\n",
    "\n",
    "# Initialize the lemmatizer\n",
    "lemmatizer = WordNetLemmatizer()\n",
    "\n",
    "# Lemmatize assuming all words are verbs\n",
    "df['text'] = df['text'].apply(lambda x: ' '.join([\n",
    "    lemmatizer.lemmatize(word, pos='v') for word in word_tokenize(x)\n",
    "]))\n"
   ]
  },
  {
   "cell_type": "code",
   "execution_count": 28,
   "metadata": {
    "colab": {
     "base_uri": "https://localhost:8080/",
     "height": 458
    },
    "id": "l-fGrmICz6UE",
    "outputId": "da123f12-3d1d-40db-bb1d-fb75c68b5f8d"
   },
   "outputs": [
    {
     "data": {
      "text/plain": [
       "0      grow ( b . 1965 ) watch love Thunderbirds . ma...\n",
       "1      put movie DVD player , sit coke chip , expecta...\n",
       "2      people know particular time past like feel nee...\n",
       "3      Even though great interest Biblical movies , b...\n",
       "4      Im die hard Dads Army fan nothing ever change ...\n",
       "                             ...                        \n",
       "994    film well-known Czech director writer collabor...\n",
       "995    Oh , bad , funny . way one could explain somet...\n",
       "996    could n't believe terrible movie actually make...\n",
       "997    Even though slightly older recommend age group...\n",
       "998    Reading web sit Bette Davis one find instance ...\n",
       "Name: text, Length: 999, dtype: object"
      ]
     },
     "execution_count": 28,
     "metadata": {},
     "output_type": "execute_result"
    }
   ],
   "source": [
    "df['text']"
   ]
  },
  {
   "cell_type": "code",
   "execution_count": 29,
   "metadata": {
    "colab": {
     "base_uri": "https://localhost:8080/",
     "height": 424
    },
    "id": "RS1jY_uZ0JBz",
    "outputId": "88e6ade6-f538-4dea-86e1-40e4491a42ec"
   },
   "outputs": [
    {
     "data": {
      "text/html": [
       "<div>\n",
       "<style scoped>\n",
       "    .dataframe tbody tr th:only-of-type {\n",
       "        vertical-align: middle;\n",
       "    }\n",
       "\n",
       "    .dataframe tbody tr th {\n",
       "        vertical-align: top;\n",
       "    }\n",
       "\n",
       "    .dataframe thead th {\n",
       "        text-align: right;\n",
       "    }\n",
       "</style>\n",
       "<table border=\"1\" class=\"dataframe\">\n",
       "  <thead>\n",
       "    <tr style=\"text-align: right;\">\n",
       "      <th></th>\n",
       "      <th>text</th>\n",
       "      <th>label</th>\n",
       "    </tr>\n",
       "  </thead>\n",
       "  <tbody>\n",
       "    <tr>\n",
       "      <th>0</th>\n",
       "      <td>grow ( b . 1965 ) watch love Thunderbirds . ma...</td>\n",
       "      <td>0</td>\n",
       "    </tr>\n",
       "    <tr>\n",
       "      <th>1</th>\n",
       "      <td>put movie DVD player , sit coke chip , expecta...</td>\n",
       "      <td>0</td>\n",
       "    </tr>\n",
       "    <tr>\n",
       "      <th>2</th>\n",
       "      <td>people know particular time past like feel nee...</td>\n",
       "      <td>0</td>\n",
       "    </tr>\n",
       "    <tr>\n",
       "      <th>3</th>\n",
       "      <td>Even though great interest Biblical movies , b...</td>\n",
       "      <td>0</td>\n",
       "    </tr>\n",
       "    <tr>\n",
       "      <th>4</th>\n",
       "      <td>Im die hard Dads Army fan nothing ever change ...</td>\n",
       "      <td>1</td>\n",
       "    </tr>\n",
       "    <tr>\n",
       "      <th>...</th>\n",
       "      <td>...</td>\n",
       "      <td>...</td>\n",
       "    </tr>\n",
       "    <tr>\n",
       "      <th>994</th>\n",
       "      <td>film well-known Czech director writer collabor...</td>\n",
       "      <td>1</td>\n",
       "    </tr>\n",
       "    <tr>\n",
       "      <th>995</th>\n",
       "      <td>Oh , bad , funny . way one could explain somet...</td>\n",
       "      <td>0</td>\n",
       "    </tr>\n",
       "    <tr>\n",
       "      <th>996</th>\n",
       "      <td>could n't believe terrible movie actually make...</td>\n",
       "      <td>0</td>\n",
       "    </tr>\n",
       "    <tr>\n",
       "      <th>997</th>\n",
       "      <td>Even though slightly older recommend age group...</td>\n",
       "      <td>1</td>\n",
       "    </tr>\n",
       "    <tr>\n",
       "      <th>998</th>\n",
       "      <td>Reading web sit Bette Davis one find instance ...</td>\n",
       "      <td>1</td>\n",
       "    </tr>\n",
       "  </tbody>\n",
       "</table>\n",
       "<p>999 rows × 2 columns</p>\n",
       "</div>"
      ],
      "text/plain": [
       "                                                  text  label\n",
       "0    grow ( b . 1965 ) watch love Thunderbirds . ma...      0\n",
       "1    put movie DVD player , sit coke chip , expecta...      0\n",
       "2    people know particular time past like feel nee...      0\n",
       "3    Even though great interest Biblical movies , b...      0\n",
       "4    Im die hard Dads Army fan nothing ever change ...      1\n",
       "..                                                 ...    ...\n",
       "994  film well-known Czech director writer collabor...      1\n",
       "995  Oh , bad , funny . way one could explain somet...      0\n",
       "996  could n't believe terrible movie actually make...      0\n",
       "997  Even though slightly older recommend age group...      1\n",
       "998  Reading web sit Bette Davis one find instance ...      1\n",
       "\n",
       "[999 rows x 2 columns]"
      ]
     },
     "execution_count": 29,
     "metadata": {},
     "output_type": "execute_result"
    }
   ],
   "source": [
    "df"
   ]
  },
  {
   "cell_type": "code",
   "execution_count": 30,
   "metadata": {
    "id": "-xIQ5KLi1Tv9"
   },
   "outputs": [],
   "source": [
    "from sklearn.feature_extraction.text import CountVectorizer\n",
    "\n",
    "# Initialize vectorizer\n",
    "vectorizer = CountVectorizer()\n",
    "\n",
    "# Fit and transform the 'text' column\n",
    "bow_matrix = vectorizer.fit_transform(df['text'])\n",
    "\n",
    "# Convert to a DataFrame if you want to inspect it\n",
    "bow_df = pd.DataFrame(bow_matrix.toarray(), columns=vectorizer.get_feature_names_out())\n"
   ]
  },
  {
   "cell_type": "code",
   "execution_count": 31,
   "metadata": {
    "id": "g6wSHjYz2OAa"
   },
   "outputs": [],
   "source": [
    "x = bow_df\n",
    "y=df['label']"
   ]
  },
  {
   "cell_type": "code",
   "execution_count": 43,
   "metadata": {
    "id": "BLsGyw392TCW"
   },
   "outputs": [
    {
     "name": "stdout",
     "output_type": "stream",
     "text": [
      "Accuracy: 0.78\n",
      "              precision    recall  f1-score   support\n",
      "\n",
      "           0       0.80      0.75      0.78       102\n",
      "           1       0.76      0.81      0.78        98\n",
      "\n",
      "    accuracy                           0.78       200\n",
      "   macro avg       0.78      0.78      0.78       200\n",
      "weighted avg       0.78      0.78      0.78       200\n",
      "\n"
     ]
    }
   ],
   "source": [
    "# Independent features\n",
    "X = bow_df\n",
    "\n",
    "# Dependent target (e.g., sentiment, category, etc.)\n",
    "y = df['label']  # Replace 'label' with the actual column name\n",
    "\n",
    "# Splitting the data\n",
    "from sklearn.model_selection import train_test_split\n",
    "X_train, X_test, y_train, y_test = train_test_split(X, y, test_size=0.2, random_state=42)\n",
    "\n",
    "# Example model: Logistic Regression\n",
    "from sklearn.linear_model import LogisticRegression\n",
    "model = LogisticRegression()\n",
    "model.fit(X_train, y_train)\n",
    "\n",
    "# Predicting\n",
    "y_pred = model.predict(X_test)\n",
    "\n",
    "# Evaluation\n",
    "from sklearn.metrics import accuracy_score, classification_report\n",
    "print(\"Accuracy:\", accuracy_score(y_test, y_pred))\n",
    "print(classification_report(y_test, y_pred))\n"
   ]
  },
  {
   "cell_type": "code",
   "execution_count": 33,
   "metadata": {
    "id": "YGoGsy8c2VIj"
   },
   "outputs": [
    {
     "name": "stdout",
     "output_type": "stream",
     "text": [
      "Accuracy: 0.775\n",
      "              precision    recall  f1-score   support\n",
      "\n",
      "           0       0.77      0.79      0.78       102\n",
      "           1       0.78      0.76      0.77        98\n",
      "\n",
      "    accuracy                           0.78       200\n",
      "   macro avg       0.78      0.77      0.77       200\n",
      "weighted avg       0.78      0.78      0.77       200\n",
      "\n"
     ]
    }
   ],
   "source": [
    "# Example model: Random Forest\n",
    "from sklearn.ensemble import RandomForestClassifier\n",
    "model = RandomForestClassifier()\n",
    "model.fit(X_train, y_train)\n",
    "\n",
    "# Predicting\n",
    "y_pred = model.predict(X_test)\n",
    "\n",
    "# Evaluation\n",
    "from sklearn.metrics import accuracy_score, classification_report\n",
    "print(\"Accuracy:\", accuracy_score(y_test, y_pred))\n",
    "print(classification_report(y_test, y_pred))\n"
   ]
  },
  {
   "cell_type": "code",
   "execution_count": 36,
   "metadata": {
    "id": "FQRvZplO2Q3K"
   },
   "outputs": [
    {
     "name": "stdout",
     "output_type": "stream",
     "text": [
      "Collecting xgboost\n",
      "  Downloading xgboost-3.0.0-py3-none-win_amd64.whl.metadata (2.1 kB)\n",
      "Requirement already satisfied: numpy in c:\\users\\akhil\\anaconda3\\lib\\site-packages (from xgboost) (1.26.4)\n",
      "Requirement already satisfied: scipy in c:\\users\\akhil\\anaconda3\\lib\\site-packages (from xgboost) (1.13.1)\n",
      "Downloading xgboost-3.0.0-py3-none-win_amd64.whl (150.0 MB)\n",
      "   ---------------------------------------- 0.0/150.0 MB ? eta -:--:--\n",
      "   ---------------------------------------- 0.8/150.0 MB 5.6 MB/s eta 0:00:27\n",
      "   ---------------------------------------- 1.6/150.0 MB 4.7 MB/s eta 0:00:32\n",
      "    --------------------------------------- 2.6/150.0 MB 4.6 MB/s eta 0:00:33\n",
      "    --------------------------------------- 3.4/150.0 MB 4.5 MB/s eta 0:00:33\n",
      "   - -------------------------------------- 4.2/150.0 MB 4.3 MB/s eta 0:00:34\n",
      "   - -------------------------------------- 5.2/150.0 MB 4.5 MB/s eta 0:00:33\n",
      "   - -------------------------------------- 6.0/150.0 MB 4.4 MB/s eta 0:00:33\n",
      "   - -------------------------------------- 7.1/150.0 MB 4.5 MB/s eta 0:00:32\n",
      "   -- ------------------------------------- 8.1/150.0 MB 4.5 MB/s eta 0:00:32\n",
      "   -- ------------------------------------- 9.2/150.0 MB 4.6 MB/s eta 0:00:31\n",
      "   -- ------------------------------------- 10.0/150.0 MB 4.6 MB/s eta 0:00:31\n",
      "   -- ------------------------------------- 11.0/150.0 MB 4.5 MB/s eta 0:00:31\n",
      "   --- ------------------------------------ 12.1/150.0 MB 4.6 MB/s eta 0:00:31\n",
      "   --- ------------------------------------ 13.1/150.0 MB 4.6 MB/s eta 0:00:30\n",
      "   --- ------------------------------------ 14.4/150.0 MB 4.7 MB/s eta 0:00:29\n",
      "   ---- ----------------------------------- 15.5/150.0 MB 4.8 MB/s eta 0:00:29\n",
      "   ---- ----------------------------------- 16.5/150.0 MB 4.8 MB/s eta 0:00:28\n",
      "   ---- ----------------------------------- 17.6/150.0 MB 4.8 MB/s eta 0:00:28\n",
      "   ---- ----------------------------------- 18.6/150.0 MB 4.7 MB/s eta 0:00:28\n",
      "   ----- ---------------------------------- 19.7/150.0 MB 4.8 MB/s eta 0:00:28\n",
      "   ----- ---------------------------------- 20.7/150.0 MB 4.8 MB/s eta 0:00:28\n",
      "   ----- ---------------------------------- 21.8/150.0 MB 4.8 MB/s eta 0:00:27\n",
      "   ------ --------------------------------- 22.8/150.0 MB 4.8 MB/s eta 0:00:27\n",
      "   ------ --------------------------------- 23.9/150.0 MB 4.8 MB/s eta 0:00:27\n",
      "   ------ --------------------------------- 24.9/150.0 MB 4.8 MB/s eta 0:00:27\n",
      "   ------ --------------------------------- 25.7/150.0 MB 4.8 MB/s eta 0:00:26\n",
      "   ------- -------------------------------- 26.7/150.0 MB 4.8 MB/s eta 0:00:26\n",
      "   ------- -------------------------------- 27.5/150.0 MB 4.7 MB/s eta 0:00:26\n",
      "   ------- -------------------------------- 28.3/150.0 MB 4.7 MB/s eta 0:00:26\n",
      "   ------- -------------------------------- 29.1/150.0 MB 4.6 MB/s eta 0:00:27\n",
      "   ------- -------------------------------- 29.6/150.0 MB 4.7 MB/s eta 0:00:26\n",
      "   -------- ------------------------------- 30.4/150.0 MB 4.6 MB/s eta 0:00:27\n",
      "   -------- ------------------------------- 30.7/150.0 MB 4.5 MB/s eta 0:00:27\n",
      "   -------- ------------------------------- 31.5/150.0 MB 4.4 MB/s eta 0:00:27\n",
      "   -------- ------------------------------- 32.0/150.0 MB 4.4 MB/s eta 0:00:27\n",
      "   -------- ------------------------------- 32.5/150.0 MB 4.3 MB/s eta 0:00:28\n",
      "   -------- ------------------------------- 33.3/150.0 MB 4.3 MB/s eta 0:00:28\n",
      "   --------- ------------------------------ 34.1/150.0 MB 4.3 MB/s eta 0:00:28\n",
      "   --------- ------------------------------ 34.9/150.0 MB 4.2 MB/s eta 0:00:28\n",
      "   --------- ------------------------------ 35.4/150.0 MB 4.2 MB/s eta 0:00:28\n",
      "   --------- ------------------------------ 36.2/150.0 MB 4.2 MB/s eta 0:00:28\n",
      "   --------- ------------------------------ 36.7/150.0 MB 4.1 MB/s eta 0:00:28\n",
      "   --------- ------------------------------ 37.2/150.0 MB 4.1 MB/s eta 0:00:28\n",
      "   ---------- ----------------------------- 38.0/150.0 MB 4.1 MB/s eta 0:00:28\n",
      "   ---------- ----------------------------- 38.5/150.0 MB 4.1 MB/s eta 0:00:28\n",
      "   ---------- ----------------------------- 39.3/150.0 MB 4.1 MB/s eta 0:00:28\n",
      "   ---------- ----------------------------- 39.8/150.0 MB 4.0 MB/s eta 0:00:28\n",
      "   ---------- ----------------------------- 40.6/150.0 MB 4.0 MB/s eta 0:00:28\n",
      "   ---------- ----------------------------- 41.2/150.0 MB 4.0 MB/s eta 0:00:28\n",
      "   ----------- ---------------------------- 42.2/150.0 MB 4.0 MB/s eta 0:00:28\n",
      "   ----------- ---------------------------- 42.7/150.0 MB 4.0 MB/s eta 0:00:28\n",
      "   ----------- ---------------------------- 43.5/150.0 MB 4.0 MB/s eta 0:00:27\n",
      "   ----------- ---------------------------- 44.3/150.0 MB 4.0 MB/s eta 0:00:27\n",
      "   ------------ --------------------------- 45.4/150.0 MB 4.0 MB/s eta 0:00:27\n",
      "   ------------ --------------------------- 46.1/150.0 MB 4.0 MB/s eta 0:00:27\n",
      "   ------------ --------------------------- 46.9/150.0 MB 4.0 MB/s eta 0:00:26\n",
      "   ------------ --------------------------- 48.0/150.0 MB 4.0 MB/s eta 0:00:26\n",
      "   ------------- -------------------------- 48.8/150.0 MB 4.0 MB/s eta 0:00:26\n",
      "   ------------- -------------------------- 49.8/150.0 MB 4.0 MB/s eta 0:00:26\n",
      "   ------------- -------------------------- 50.6/150.0 MB 4.0 MB/s eta 0:00:25\n",
      "   ------------- -------------------------- 51.4/150.0 MB 4.0 MB/s eta 0:00:25\n",
      "   ------------- -------------------------- 52.2/150.0 MB 4.0 MB/s eta 0:00:25\n",
      "   -------------- ------------------------- 53.0/150.0 MB 4.0 MB/s eta 0:00:25\n",
      "   -------------- ------------------------- 53.7/150.0 MB 4.0 MB/s eta 0:00:25\n",
      "   -------------- ------------------------- 54.5/150.0 MB 4.0 MB/s eta 0:00:25\n",
      "   -------------- ------------------------- 55.3/150.0 MB 4.0 MB/s eta 0:00:24\n",
      "   -------------- ------------------------- 56.1/150.0 MB 4.0 MB/s eta 0:00:24\n",
      "   --------------- ------------------------ 56.9/150.0 MB 4.0 MB/s eta 0:00:24\n",
      "   --------------- ------------------------ 57.7/150.0 MB 3.9 MB/s eta 0:00:24\n",
      "   --------------- ------------------------ 58.5/150.0 MB 3.9 MB/s eta 0:00:24\n",
      "   --------------- ------------------------ 59.5/150.0 MB 4.0 MB/s eta 0:00:23\n",
      "   ---------------- ----------------------- 60.3/150.0 MB 4.0 MB/s eta 0:00:23\n",
      "   ---------------- ----------------------- 61.1/150.0 MB 4.0 MB/s eta 0:00:23\n",
      "   ---------------- ----------------------- 61.9/150.0 MB 4.0 MB/s eta 0:00:23\n",
      "   ---------------- ----------------------- 62.7/150.0 MB 3.9 MB/s eta 0:00:23\n",
      "   ---------------- ----------------------- 63.2/150.0 MB 3.9 MB/s eta 0:00:23\n",
      "   ----------------- ---------------------- 64.0/150.0 MB 3.9 MB/s eta 0:00:22\n",
      "   ----------------- ---------------------- 65.0/150.0 MB 3.9 MB/s eta 0:00:22\n",
      "   ----------------- ---------------------- 65.8/150.0 MB 3.9 MB/s eta 0:00:22\n",
      "   ----------------- ---------------------- 66.6/150.0 MB 3.9 MB/s eta 0:00:22\n",
      "   ----------------- ---------------------- 67.4/150.0 MB 3.9 MB/s eta 0:00:22\n",
      "   ------------------ --------------------- 68.2/150.0 MB 3.9 MB/s eta 0:00:21\n",
      "   ------------------ --------------------- 68.9/150.0 MB 3.9 MB/s eta 0:00:21\n",
      "   ------------------ --------------------- 69.7/150.0 MB 3.9 MB/s eta 0:00:21\n",
      "   ------------------ --------------------- 70.8/150.0 MB 3.9 MB/s eta 0:00:21\n",
      "   ------------------- -------------------- 71.6/150.0 MB 3.9 MB/s eta 0:00:21\n",
      "   ------------------- -------------------- 72.1/150.0 MB 3.9 MB/s eta 0:00:20\n",
      "   ------------------- -------------------- 72.6/150.0 MB 3.9 MB/s eta 0:00:20\n",
      "   ------------------- -------------------- 73.4/150.0 MB 3.9 MB/s eta 0:00:20\n",
      "   ------------------- -------------------- 74.4/150.0 MB 3.9 MB/s eta 0:00:20\n",
      "   ------------------- -------------------- 75.0/150.0 MB 3.9 MB/s eta 0:00:20\n",
      "   -------------------- ------------------- 75.8/150.0 MB 3.9 MB/s eta 0:00:20\n",
      "   -------------------- ------------------- 76.5/150.0 MB 3.9 MB/s eta 0:00:19\n",
      "   -------------------- ------------------- 77.3/150.0 MB 3.9 MB/s eta 0:00:19\n",
      "   -------------------- ------------------- 77.6/150.0 MB 3.9 MB/s eta 0:00:19\n",
      "   -------------------- ------------------- 78.4/150.0 MB 3.8 MB/s eta 0:00:19\n",
      "   --------------------- ------------------ 79.2/150.0 MB 3.8 MB/s eta 0:00:19\n",
      "   --------------------- ------------------ 79.7/150.0 MB 3.8 MB/s eta 0:00:19\n",
      "   --------------------- ------------------ 80.5/150.0 MB 3.8 MB/s eta 0:00:19\n",
      "   --------------------- ------------------ 81.0/150.0 MB 3.8 MB/s eta 0:00:19\n",
      "   --------------------- ------------------ 81.8/150.0 MB 3.8 MB/s eta 0:00:18\n",
      "   ---------------------- ----------------- 82.6/150.0 MB 3.8 MB/s eta 0:00:18\n",
      "   ---------------------- ----------------- 83.4/150.0 MB 3.8 MB/s eta 0:00:18\n",
      "   ---------------------- ----------------- 84.1/150.0 MB 3.8 MB/s eta 0:00:18\n",
      "   ---------------------- ----------------- 84.7/150.0 MB 3.8 MB/s eta 0:00:18\n",
      "   ---------------------- ----------------- 85.5/150.0 MB 3.8 MB/s eta 0:00:17\n",
      "   ----------------------- ---------------- 86.2/150.0 MB 3.8 MB/s eta 0:00:17\n",
      "   ----------------------- ---------------- 87.6/150.0 MB 3.8 MB/s eta 0:00:17\n",
      "   ----------------------- ---------------- 88.6/150.0 MB 3.8 MB/s eta 0:00:17\n",
      "   ----------------------- ---------------- 89.4/150.0 MB 3.8 MB/s eta 0:00:16\n",
      "   ----------------------- ---------------- 89.9/150.0 MB 3.8 MB/s eta 0:00:16\n",
      "   ------------------------ --------------- 91.0/150.0 MB 3.8 MB/s eta 0:00:16\n",
      "   ------------------------ --------------- 91.8/150.0 MB 3.8 MB/s eta 0:00:16\n",
      "   ------------------------ --------------- 92.3/150.0 MB 3.8 MB/s eta 0:00:16\n",
      "   ------------------------ --------------- 93.1/150.0 MB 3.8 MB/s eta 0:00:15\n",
      "   ------------------------- -------------- 93.8/150.0 MB 3.8 MB/s eta 0:00:15\n",
      "   ------------------------- -------------- 94.9/150.0 MB 3.8 MB/s eta 0:00:15\n",
      "   ------------------------- -------------- 95.9/150.0 MB 3.8 MB/s eta 0:00:15\n",
      "   ------------------------- -------------- 97.3/150.0 MB 3.8 MB/s eta 0:00:14\n",
      "   -------------------------- ------------- 98.3/150.0 MB 3.9 MB/s eta 0:00:14\n",
      "   -------------------------- ------------- 99.4/150.0 MB 3.9 MB/s eta 0:00:14\n",
      "   -------------------------- ------------- 100.4/150.0 MB 3.9 MB/s eta 0:00:13\n",
      "   -------------------------- ------------- 101.2/150.0 MB 3.9 MB/s eta 0:00:13\n",
      "   --------------------------- ------------ 102.0/150.0 MB 3.9 MB/s eta 0:00:13\n",
      "   --------------------------- ------------ 102.5/150.0 MB 3.9 MB/s eta 0:00:13\n",
      "   --------------------------- ------------ 103.8/150.0 MB 3.9 MB/s eta 0:00:12\n",
      "   --------------------------- ------------ 104.9/150.0 MB 3.9 MB/s eta 0:00:12\n",
      "   ---------------------------- ----------- 105.6/150.0 MB 3.9 MB/s eta 0:00:12\n",
      "   ---------------------------- ----------- 107.0/150.0 MB 3.9 MB/s eta 0:00:12\n",
      "   ---------------------------- ----------- 108.0/150.0 MB 3.9 MB/s eta 0:00:11\n",
      "   ----------------------------- ---------- 109.1/150.0 MB 3.9 MB/s eta 0:00:11\n",
      "   ----------------------------- ---------- 110.1/150.0 MB 3.9 MB/s eta 0:00:11\n",
      "   ----------------------------- ---------- 111.1/150.0 MB 3.9 MB/s eta 0:00:10\n",
      "   ----------------------------- ---------- 112.2/150.0 MB 3.9 MB/s eta 0:00:10\n",
      "   ------------------------------ --------- 113.2/150.0 MB 3.9 MB/s eta 0:00:10\n",
      "   ------------------------------ --------- 114.3/150.0 MB 4.0 MB/s eta 0:00:10\n",
      "   ------------------------------ --------- 115.3/150.0 MB 4.0 MB/s eta 0:00:09\n",
      "   ------------------------------ --------- 116.1/150.0 MB 4.0 MB/s eta 0:00:09\n",
      "   ------------------------------- -------- 117.2/150.0 MB 4.0 MB/s eta 0:00:09\n",
      "   ------------------------------- -------- 118.2/150.0 MB 4.0 MB/s eta 0:00:08\n",
      "   ------------------------------- -------- 119.0/150.0 MB 4.0 MB/s eta 0:00:08\n",
      "   -------------------------------- ------- 120.1/150.0 MB 4.0 MB/s eta 0:00:08\n",
      "   -------------------------------- ------- 120.8/150.0 MB 4.0 MB/s eta 0:00:08\n",
      "   -------------------------------- ------- 121.9/150.0 MB 4.0 MB/s eta 0:00:08\n",
      "   -------------------------------- ------- 122.9/150.0 MB 4.0 MB/s eta 0:00:07\n",
      "   --------------------------------- ------ 124.0/150.0 MB 4.0 MB/s eta 0:00:07\n",
      "   --------------------------------- ------ 125.0/150.0 MB 4.0 MB/s eta 0:00:07\n",
      "   --------------------------------- ------ 126.4/150.0 MB 4.0 MB/s eta 0:00:06\n",
      "   --------------------------------- ------ 127.1/150.0 MB 4.0 MB/s eta 0:00:06\n",
      "   ---------------------------------- ----- 128.2/150.0 MB 4.0 MB/s eta 0:00:06\n",
      "   ---------------------------------- ----- 129.0/150.0 MB 4.0 MB/s eta 0:00:06\n",
      "   ---------------------------------- ----- 129.8/150.0 MB 4.0 MB/s eta 0:00:06\n",
      "   ---------------------------------- ----- 130.5/150.0 MB 4.0 MB/s eta 0:00:05\n",
      "   ----------------------------------- ---- 131.3/150.0 MB 4.0 MB/s eta 0:00:05\n",
      "   ----------------------------------- ---- 131.9/150.0 MB 3.9 MB/s eta 0:00:05\n",
      "   ----------------------------------- ---- 132.9/150.0 MB 3.9 MB/s eta 0:00:05\n",
      "   ----------------------------------- ---- 133.7/150.0 MB 3.9 MB/s eta 0:00:05\n",
      "   ----------------------------------- ---- 134.5/150.0 MB 3.9 MB/s eta 0:00:04\n",
      "   ------------------------------------ --- 135.5/150.0 MB 3.9 MB/s eta 0:00:04\n",
      "   ------------------------------------ --- 136.3/150.0 MB 3.9 MB/s eta 0:00:04\n",
      "   ------------------------------------ --- 137.1/150.0 MB 3.9 MB/s eta 0:00:04\n",
      "   ------------------------------------ --- 137.9/150.0 MB 3.9 MB/s eta 0:00:04\n",
      "   ------------------------------------ --- 138.7/150.0 MB 3.9 MB/s eta 0:00:03\n",
      "   ------------------------------------- -- 139.2/150.0 MB 3.9 MB/s eta 0:00:03\n",
      "   ------------------------------------- -- 140.0/150.0 MB 3.9 MB/s eta 0:00:03\n",
      "   ------------------------------------- -- 140.8/150.0 MB 3.9 MB/s eta 0:00:03\n",
      "   ------------------------------------- -- 141.6/150.0 MB 3.8 MB/s eta 0:00:03\n",
      "   ------------------------------------- -- 142.1/150.0 MB 3.8 MB/s eta 0:00:03\n",
      "   -------------------------------------- - 142.9/150.0 MB 3.8 MB/s eta 0:00:02\n",
      "   -------------------------------------- - 143.7/150.0 MB 3.8 MB/s eta 0:00:02\n",
      "   -------------------------------------- - 144.4/150.0 MB 3.8 MB/s eta 0:00:02\n",
      "   -------------------------------------- - 145.0/150.0 MB 3.8 MB/s eta 0:00:02\n",
      "   -------------------------------------- - 145.5/150.0 MB 3.8 MB/s eta 0:00:02\n",
      "   ---------------------------------------  146.3/150.0 MB 3.8 MB/s eta 0:00:01\n",
      "   ---------------------------------------  147.1/150.0 MB 3.9 MB/s eta 0:00:01\n",
      "   ---------------------------------------  147.8/150.0 MB 3.9 MB/s eta 0:00:01\n",
      "   ---------------------------------------  148.6/150.0 MB 3.9 MB/s eta 0:00:01\n",
      "   ---------------------------------------  149.7/150.0 MB 3.9 MB/s eta 0:00:01\n",
      "   ---------------------------------------  149.9/150.0 MB 3.9 MB/s eta 0:00:01\n",
      "   ---------------------------------------- 150.0/150.0 MB 3.8 MB/s eta 0:00:00\n",
      "Installing collected packages: xgboost\n",
      "Successfully installed xgboost-3.0.0\n",
      "XGBoost Accuracy: 0.76\n"
     ]
    }
   ],
   "source": [
    "!pip install xgboost\n",
    "from xgboost import XGBClassifier\n",
    "\n",
    "xgb = XGBClassifier(n_estimators=100, learning_rate=0.05, max_depth=5)\n",
    "xgb.fit(X_train, y_train)\n",
    "\n",
    "print(\"XGBoost Accuracy:\", xgb.score(X_test, y_test))\n"
   ]
  },
  {
   "cell_type": "code",
   "execution_count": 42,
   "metadata": {},
   "outputs": [
    {
     "name": "stdin",
     "output_type": "stream",
     "text": [
      "\n",
      "Enter a sentence (or type 'exit' to quit):  bad\n"
     ]
    },
    {
     "name": "stdout",
     "output_type": "stream",
     "text": [
      "0\n"
     ]
    },
    {
     "name": "stdin",
     "output_type": "stream",
     "text": [
      "\n",
      "Enter a sentence (or type 'exit' to quit):  good\n"
     ]
    },
    {
     "name": "stdout",
     "output_type": "stream",
     "text": [
      "1\n"
     ]
    },
    {
     "name": "stdin",
     "output_type": "stream",
     "text": [
      "\n",
      "Enter a sentence (or type 'exit' to quit):  bad as fuck movie dont watch\n"
     ]
    },
    {
     "name": "stdout",
     "output_type": "stream",
     "text": [
      "0\n"
     ]
    },
    {
     "name": "stdin",
     "output_type": "stream",
     "text": [
      "\n",
      "Enter a sentence (or type 'exit' to quit):  please dont watch thi\n"
     ]
    },
    {
     "name": "stdout",
     "output_type": "stream",
     "text": [
      "1\n"
     ]
    },
    {
     "name": "stdin",
     "output_type": "stream",
     "text": [
      "\n",
      "Enter a sentence (or type 'exit' to quit):  please dont watch this movie it sucks\n"
     ]
    },
    {
     "name": "stdout",
     "output_type": "stream",
     "text": [
      "1\n"
     ]
    },
    {
     "name": "stdin",
     "output_type": "stream",
     "text": [
      "\n",
      "Enter a sentence (or type 'exit' to quit):  what a movie uff\n"
     ]
    },
    {
     "name": "stdout",
     "output_type": "stream",
     "text": [
      "1\n"
     ]
    },
    {
     "name": "stdin",
     "output_type": "stream",
     "text": [
      "\n",
      "Enter a sentence (or type 'exit' to quit):  worst movie\n"
     ]
    },
    {
     "name": "stdout",
     "output_type": "stream",
     "text": [
      "0\n"
     ]
    },
    {
     "name": "stdin",
     "output_type": "stream",
     "text": [
      "\n",
      "Enter a sentence (or type 'exit' to quit):  please dont watch this shit\n"
     ]
    },
    {
     "name": "stdout",
     "output_type": "stream",
     "text": [
      "1\n"
     ]
    },
    {
     "name": "stdin",
     "output_type": "stream",
     "text": [
      "\n",
      "Enter a sentence (or type 'exit' to quit):  shit\n"
     ]
    },
    {
     "name": "stdout",
     "output_type": "stream",
     "text": [
      "1\n"
     ]
    },
    {
     "name": "stdin",
     "output_type": "stream",
     "text": [
      "\n",
      "Enter a sentence (or type 'exit' to quit):  yuck\n"
     ]
    },
    {
     "name": "stdout",
     "output_type": "stream",
     "text": [
      "1\n"
     ]
    },
    {
     "name": "stdin",
     "output_type": "stream",
     "text": [
      "\n",
      "Enter a sentence (or type 'exit' to quit):  Prepare to be bored, confused, and ultimately insulted by 'The Stuttering Space Opera.' This film is a prime example of everything that can go wrong in filmmaking. The plot, if one can even call it that, is a nonsensical jumble of scenes that don't connect, leaving the viewer lost and wondering what the point is. The dialogue is so clunky and unnatural, it's as if the actors were reading from a phone book. The acting is uniformly terrible, with every character delivering lines that sound like they're being forced out of them. The director seems to have no vision, and the cinematography is bland and uninspired. The special effects are laughably bad, and the entire film feels like it was made on a shoestring budget with no regard for quality. Save yourself the time and money; don't waste your precious hours on this cinematic abomination. This movie is a 1/10, and that's being generous\n"
     ]
    },
    {
     "name": "stdout",
     "output_type": "stream",
     "text": [
      "0\n"
     ]
    },
    {
     "name": "stdin",
     "output_type": "stream",
     "text": [
      "\n",
      "Enter a sentence (or type 'exit' to quit):  From the opening credits, 'The Shape of Water' transports you to a world of whimsical wonder and poignant emotion. Guillermo del Toro's direction is masterful, creating a visually stunning and emotionally resonant film. The performances are uniformly excellent, with Sally Hawkins delivering a captivating portrayal of Elisa, the mute janitor who finds love in the most unexpected place. While the film's pacing can be slow at times, the payoff is a deeply moving and thought-provoking story that explores themes of acceptance, love, and belonging. I highly recommend this film to anyone who enjoys a blend of fantasy, romance, and social commentary\n"
     ]
    },
    {
     "name": "stdout",
     "output_type": "stream",
     "text": [
      "1\n"
     ]
    },
    {
     "name": "stdin",
     "output_type": "stream",
     "text": [
      "\n",
      "Enter a sentence (or type 'exit' to quit):  exit\n"
     ]
    }
   ],
   "source": [
    "# Ensure vectorizer is the same one used during training\n",
    "while True:\n",
    "    user_input = input(\"\\nEnter a sentence (or type 'exit' to quit): \")\n",
    "    if user_input.lower() == \"exit\":\n",
    "        break\n",
    "    \n",
    "    # Transform input using the trained vectorizer\n",
    "    user_input_vectorized = vectorizer.transform([user_input])\n",
    "\n",
    "    # Predict sentiment\n",
    "    prediction = model.predict(user_input_vectorized)[0]  # Extracting single prediction\n",
    "\n",
    "    # Convert integer prediction to label if necessary\n",
    "    if isinstance(prediction, (int, float)):  \n",
    "        prediction = str(prediction)  # Convert to string if needed\n",
    "\n",
    "    print(prediction)\n"
   ]
  },
  {
   "cell_type": "code",
   "execution_count": 44,
   "metadata": {},
   "outputs": [
    {
     "name": "stdout",
     "output_type": "stream",
     "text": [
      "Model and vectorizer saved successfully!\n"
     ]
    }
   ],
   "source": [
    "import pickle\n",
    "\n",
    "# Save the trained model\n",
    "with open(\"model.pkl\", \"wb\") as model_file:\n",
    "    pickle.dump(model, model_file)\n",
    "\n",
    "# Save the trained vectorizer\n",
    "with open(\"vectorizer.pkl\", \"wb\") as vectorizer_file:\n",
    "    pickle.dump(vectorizer, vectorizer_file)\n",
    "\n",
    "print(\"Model and vectorizer saved successfully!\")\n"
   ]
  },
  {
   "cell_type": "code",
   "execution_count": 45,
   "metadata": {},
   "outputs": [
    {
     "name": "stdout",
     "output_type": "stream",
     "text": [
      "Requirement already satisfied: streamlit in c:\\users\\akhil\\anaconda3\\lib\\site-packages (1.37.1)\n",
      "Requirement already satisfied: altair<6,>=4.0 in c:\\users\\akhil\\anaconda3\\lib\\site-packages (from streamlit) (5.0.1)\n",
      "Requirement already satisfied: blinker<2,>=1.0.0 in c:\\users\\akhil\\anaconda3\\lib\\site-packages (from streamlit) (1.6.2)\n",
      "Requirement already satisfied: cachetools<6,>=4.0 in c:\\users\\akhil\\anaconda3\\lib\\site-packages (from streamlit) (5.3.3)\n",
      "Requirement already satisfied: click<9,>=7.0 in c:\\users\\akhil\\anaconda3\\lib\\site-packages (from streamlit) (8.1.7)\n",
      "Requirement already satisfied: numpy<3,>=1.20 in c:\\users\\akhil\\anaconda3\\lib\\site-packages (from streamlit) (1.26.4)\n",
      "Requirement already satisfied: packaging<25,>=20 in c:\\users\\akhil\\anaconda3\\lib\\site-packages (from streamlit) (24.1)\n",
      "Requirement already satisfied: pandas<3,>=1.3.0 in c:\\users\\akhil\\anaconda3\\lib\\site-packages (from streamlit) (2.2.2)\n",
      "Requirement already satisfied: pillow<11,>=7.1.0 in c:\\users\\akhil\\anaconda3\\lib\\site-packages (from streamlit) (10.4.0)\n",
      "Requirement already satisfied: protobuf<6,>=3.20 in c:\\users\\akhil\\anaconda3\\lib\\site-packages (from streamlit) (4.25.3)\n",
      "Requirement already satisfied: pyarrow>=7.0 in c:\\users\\akhil\\anaconda3\\lib\\site-packages (from streamlit) (16.1.0)\n",
      "Requirement already satisfied: requests<3,>=2.27 in c:\\users\\akhil\\anaconda3\\lib\\site-packages (from streamlit) (2.32.3)\n",
      "Requirement already satisfied: rich<14,>=10.14.0 in c:\\users\\akhil\\anaconda3\\lib\\site-packages (from streamlit) (13.7.1)\n",
      "Requirement already satisfied: tenacity<9,>=8.1.0 in c:\\users\\akhil\\anaconda3\\lib\\site-packages (from streamlit) (8.2.3)\n",
      "Requirement already satisfied: toml<2,>=0.10.1 in c:\\users\\akhil\\anaconda3\\lib\\site-packages (from streamlit) (0.10.2)\n",
      "Requirement already satisfied: typing-extensions<5,>=4.3.0 in c:\\users\\akhil\\anaconda3\\lib\\site-packages (from streamlit) (4.11.0)\n",
      "Requirement already satisfied: gitpython!=3.1.19,<4,>=3.0.7 in c:\\users\\akhil\\anaconda3\\lib\\site-packages (from streamlit) (3.1.43)\n",
      "Requirement already satisfied: pydeck<1,>=0.8.0b4 in c:\\users\\akhil\\anaconda3\\lib\\site-packages (from streamlit) (0.8.0)\n",
      "Requirement already satisfied: tornado<7,>=6.0.3 in c:\\users\\akhil\\anaconda3\\lib\\site-packages (from streamlit) (6.4.1)\n",
      "Requirement already satisfied: watchdog<5,>=2.1.5 in c:\\users\\akhil\\anaconda3\\lib\\site-packages (from streamlit) (4.0.1)\n",
      "Requirement already satisfied: jinja2 in c:\\users\\akhil\\anaconda3\\lib\\site-packages (from altair<6,>=4.0->streamlit) (3.1.4)\n",
      "Requirement already satisfied: jsonschema>=3.0 in c:\\users\\akhil\\anaconda3\\lib\\site-packages (from altair<6,>=4.0->streamlit) (4.23.0)\n",
      "Requirement already satisfied: toolz in c:\\users\\akhil\\anaconda3\\lib\\site-packages (from altair<6,>=4.0->streamlit) (0.12.0)\n",
      "Requirement already satisfied: colorama in c:\\users\\akhil\\anaconda3\\lib\\site-packages (from click<9,>=7.0->streamlit) (0.4.6)\n",
      "Requirement already satisfied: gitdb<5,>=4.0.1 in c:\\users\\akhil\\anaconda3\\lib\\site-packages (from gitpython!=3.1.19,<4,>=3.0.7->streamlit) (4.0.7)\n",
      "Requirement already satisfied: python-dateutil>=2.8.2 in c:\\users\\akhil\\anaconda3\\lib\\site-packages (from pandas<3,>=1.3.0->streamlit) (2.9.0.post0)\n",
      "Requirement already satisfied: pytz>=2020.1 in c:\\users\\akhil\\anaconda3\\lib\\site-packages (from pandas<3,>=1.3.0->streamlit) (2024.1)\n",
      "Requirement already satisfied: tzdata>=2022.7 in c:\\users\\akhil\\anaconda3\\lib\\site-packages (from pandas<3,>=1.3.0->streamlit) (2023.3)\n",
      "Requirement already satisfied: charset-normalizer<4,>=2 in c:\\users\\akhil\\anaconda3\\lib\\site-packages (from requests<3,>=2.27->streamlit) (3.3.2)\n",
      "Requirement already satisfied: idna<4,>=2.5 in c:\\users\\akhil\\anaconda3\\lib\\site-packages (from requests<3,>=2.27->streamlit) (3.7)\n",
      "Requirement already satisfied: urllib3<3,>=1.21.1 in c:\\users\\akhil\\anaconda3\\lib\\site-packages (from requests<3,>=2.27->streamlit) (2.2.3)\n",
      "Requirement already satisfied: certifi>=2017.4.17 in c:\\users\\akhil\\anaconda3\\lib\\site-packages (from requests<3,>=2.27->streamlit) (2024.8.30)\n",
      "Requirement already satisfied: markdown-it-py>=2.2.0 in c:\\users\\akhil\\anaconda3\\lib\\site-packages (from rich<14,>=10.14.0->streamlit) (2.2.0)\n",
      "Requirement already satisfied: pygments<3.0.0,>=2.13.0 in c:\\users\\akhil\\anaconda3\\lib\\site-packages (from rich<14,>=10.14.0->streamlit) (2.15.1)\n",
      "Requirement already satisfied: smmap<5,>=3.0.1 in c:\\users\\akhil\\anaconda3\\lib\\site-packages (from gitdb<5,>=4.0.1->gitpython!=3.1.19,<4,>=3.0.7->streamlit) (4.0.0)\n",
      "Requirement already satisfied: MarkupSafe>=2.0 in c:\\users\\akhil\\anaconda3\\lib\\site-packages (from jinja2->altair<6,>=4.0->streamlit) (2.1.3)\n",
      "Requirement already satisfied: attrs>=22.2.0 in c:\\users\\akhil\\anaconda3\\lib\\site-packages (from jsonschema>=3.0->altair<6,>=4.0->streamlit) (23.1.0)\n",
      "Requirement already satisfied: jsonschema-specifications>=2023.03.6 in c:\\users\\akhil\\anaconda3\\lib\\site-packages (from jsonschema>=3.0->altair<6,>=4.0->streamlit) (2023.7.1)\n",
      "Requirement already satisfied: referencing>=0.28.4 in c:\\users\\akhil\\anaconda3\\lib\\site-packages (from jsonschema>=3.0->altair<6,>=4.0->streamlit) (0.30.2)\n",
      "Requirement already satisfied: rpds-py>=0.7.1 in c:\\users\\akhil\\anaconda3\\lib\\site-packages (from jsonschema>=3.0->altair<6,>=4.0->streamlit) (0.10.6)\n",
      "Requirement already satisfied: mdurl~=0.1 in c:\\users\\akhil\\anaconda3\\lib\\site-packages (from markdown-it-py>=2.2.0->rich<14,>=10.14.0->streamlit) (0.1.0)\n",
      "Requirement already satisfied: six>=1.5 in c:\\users\\akhil\\anaconda3\\lib\\site-packages (from python-dateutil>=2.8.2->pandas<3,>=1.3.0->streamlit) (1.16.0)\n"
     ]
    }
   ],
   "source": [
    "!pip install streamlit\n"
   ]
  },
  {
   "cell_type": "code",
   "execution_count": 47,
   "metadata": {},
   "outputs": [
    {
     "ename": "NameError",
     "evalue": "name 'streamlit' is not defined",
     "output_type": "error",
     "traceback": [
      "\u001b[1;31m---------------------------------------------------------------------------\u001b[0m",
      "\u001b[1;31mNameError\u001b[0m                                 Traceback (most recent call last)",
      "Cell \u001b[1;32mIn[47], line 1\u001b[0m\n\u001b[1;32m----> 1\u001b[0m streamlit \u001b[38;5;241m-\u001b[39m\u001b[38;5;241m-\u001b[39mversion\n",
      "\u001b[1;31mNameError\u001b[0m: name 'streamlit' is not defined"
     ]
    }
   ],
   "source": [
    "streamlit --version\n",
    "\n",
    "\n"
   ]
  },
  {
   "cell_type": "code",
   "execution_count": null,
   "metadata": {},
   "outputs": [],
   "source": []
  }
 ],
 "metadata": {
  "accelerator": "GPU",
  "colab": {
   "gpuType": "T4",
   "provenance": []
  },
  "kernelspec": {
   "display_name": "Python 3 (ipykernel)",
   "language": "python",
   "name": "python3"
  },
  "language_info": {
   "codemirror_mode": {
    "name": "ipython",
    "version": 3
   },
   "file_extension": ".py",
   "mimetype": "text/x-python",
   "name": "python",
   "nbconvert_exporter": "python",
   "pygments_lexer": "ipython3",
   "version": "3.12.7"
  }
 },
 "nbformat": 4,
 "nbformat_minor": 4
}
